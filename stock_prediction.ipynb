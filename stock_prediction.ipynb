{
  "nbformat": 4,
  "nbformat_minor": 0,
  "metadata": {
    "colab": {
      "name": "stock-prediction.ipynb",
      "version": "0.3.2",
      "provenance": [],
      "collapsed_sections": [],
      "include_colab_link": true
    },
    "kernelspec": {
      "name": "python3",
      "display_name": "Python 3"
    }
  },
  "cells": [
    {
      "cell_type": "markdown",
      "metadata": {
        "id": "view-in-github",
        "colab_type": "text"
      },
      "source": [
        "<a href=\"https://colab.research.google.com/github/thebishorup/stock-prediction/blob/master/stock_prediction.ipynb\" target=\"_parent\"><img src=\"https://colab.research.google.com/assets/colab-badge.svg\" alt=\"Open In Colab\"/></a>"
      ]
    },
    {
      "cell_type": "code",
      "metadata": {
        "id": "aZ1pWb8BPlqR",
        "colab_type": "code",
        "colab": {}
      },
      "source": [
        "# Import required libraries\n",
        "\n",
        "import pandas as pd\n",
        "import numpy as np\n",
        "import matplotlib.pyplot as plt\n",
        "\n",
        "import quandl"
      ],
      "execution_count": 0,
      "outputs": []
    },
    {
      "cell_type": "code",
      "metadata": {
        "id": "RxtTYSdVRmmp",
        "colab_type": "code",
        "colab": {}
      },
      "source": [
        "dates = []\n",
        "adj_price = []"
      ],
      "execution_count": 0,
      "outputs": []
    },
    {
      "cell_type": "code",
      "metadata": {
        "id": "DlWA6OjVQZbl",
        "colab_type": "code",
        "colab": {}
      },
      "source": [
        "df = quandl.get('WIKI/TSLA')\n",
        "#print(df.head())\n",
        "\n",
        "# reset index to get dates\n",
        "df = df.reset_index()\n",
        "\n",
        "# load and adj close into arrays\n",
        "for row in df['Adj. Close']:\n",
        "  adj_price.append(row)\n",
        " \n",
        "\n",
        "# Get day of the month into array from Date row\n",
        "for row in df['Date']:\n",
        "  dates.append(int(row.strftime('%d')))"
      ],
      "execution_count": 0,
      "outputs": []
    },
    {
      "cell_type": "code",
      "metadata": {
        "id": "FbSN216Lf47g",
        "colab_type": "code",
        "colab": {}
      },
      "source": [
        ""
      ],
      "execution_count": 0,
      "outputs": []
    }
  ]
}